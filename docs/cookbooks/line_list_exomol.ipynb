{
 "cells": [
  {
   "cell_type": "markdown",
   "id": "db43149d-df72-4b7f-a25f-06059a05dbee",
   "metadata": {},
   "source": [
    "# ExoMol line lists\n",
    "This tutorial shows how to fetch ExoMol line lists, and sample them into cross-section files for use in ``Pyrat Bay`` radiative-transfer calculations.\n",
    "\n",
    "\n",
    "``Pyrat Bay`` has a two-step process to process line lists:\n",
    "\n",
    "1. **Convert line lists** from their original format (e.g., HITRAN ``.par`` files, ExoMol ``.states/.trans`` files) **into transition-line information files (TLI files)**.  This is simple a re-formatting step, the data is still kept as the info per line-transition (wavelengths, *gf*, *Elow*, isotope).  TLI files can readily be used for ``Pyrat Bay`` radiative-transfer calculations, but such runs are slow as the code computes the lines shape and strength *on the fly* to obtain the cross sections.\n",
    "\n",
    "2. **Conver TLI files into cross-section tables** (saved as Numpy ``.npz`` files).  This step evaluates (i.e., *samples*) the line-transition information over a grid of [wavelength, temperature, pressure], which involves computing the line shape and strength of all lines at each given wl, pressure, and temperature value of the grid.   Cross-section tables are ideal for radiative-transfer calculations, since the code simply interpolates from them (and therefore, these calculations are fast).\n",
    "\n",
    "The main issue with cross-section is that they are not too flexible (one might want to change, e.g., the wavelength resolution or line broadening parameters, for which the user would need to re-generate cross-sections from the TLI files).  For this reason ``Pyrat Bay`` was designed with this two-step approach."
   ]
  },
  {
   "cell_type": "markdown",
   "id": "af5f2f7b-d6f4-4ed3-b38c-2f2768900070",
   "metadata": {},
   "source": [
    "## Download ExoMol data\n",
    "\n",
    "You can find HITRAN and HITEMP line lists from their website:\n",
    "\n",
    "- https://www.exomol.com/data/molecules\n",
    "\n",
    "There are 3 types of files to fetch, the `.trans` files, the `.states` files, and the `.pf` files.\n",
    "For this demo, we will get those for the HCN line lists. We can do this with the following prompt commands:\n",
    "\n",
    "```shell\n",
    "# Download the data\n",
    "wget https://www.exomol.com/db/HCN/1H-12C-14N/Harris/1H-12C-14N__Harris.states.bz2\n",
    "wget https://www.exomol.com/db/HCN/1H-12C-14N/Harris/1H-12C-14N__Harris.trans.bz2\n",
    "wget https://www.exomol.com/db/HCN/1H-12C-14N/Harris/1H-12C-14N__Harris.pf\n",
    "\n",
    "wget https://www.exomol.com/db/HCN/1H-13C-14N/Larner/1H-13C-14N__Larner.states.bz2\n",
    "wget https://www.exomol.com/db/HCN/1H-13C-14N/Larner/1H-13C-14N__Larner.trans.bz2\n",
    "wget https://www.exomol.com/db/HCN/1H-13C-14N/Larner/1H-13C-14N__Larner.pf\n",
    "\n",
    "# Unzip the data\n",
    "bzip2 -d *.bz2\n",
    "```"
   ]
  },
  {
   "cell_type": "markdown",
   "id": "1c1b631c-5fe5-420d-a3e0-7698082f3fa4",
   "metadata": {},
   "source": [
    "## Format the partition function\n",
    "\n",
    "Before generating the TLI file, we will format the partition-function files from ExoMol for use in `Pyrat Bay`. We can do this with the following prompt command where we first specify the source (`exomol`) and then list all *'.pf'* files of interest (one can combine multiple isotopologues of a species into a single file):\n",
    "\n",
    "```shell\n",
    "pbay -pf exomol 1H-12C-14N__Harris.pf 1H-13C-14N__Larner.pf\n",
    "```\n",
    "\n",
    "This will produce the *PF_exomol_HCN.dat* file, which can be passed as input for the TLI config file."
   ]
  },
  {
   "cell_type": "markdown",
   "id": "7a7e0341-1597-4b47-9070-122d1b00cb59",
   "metadata": {},
   "source": [
    "## Compute TLI files\n",
    "\n",
    "The easiest way to generate TLI files is via configuration files and the command line.  The config file below ([tli_exomol_HCN_cookbook.cfg](https://github.com/pcubillos/pyratbay/blob/master/docs/cookbooks/tli_exomol_HCN_cookbook.cfg)) converts the ExoMol/HCN line-lists (see ``dblist``) into a TLI file (see ``tlifile`` or ``logfile``).\n",
    "\n",
    "Partition-function information must also be provided (see ``pflist``).  As in this demo (see above), this is the path to a partition-function file (either a unique PF file for all `dblist` files, or one PF file for each `dblist` file).  Alternatively, one can set ``pflist=tips`` to use the partition functions from [Gamache et al. (2017)](https://ui.adsabs.harvard.edu/abs/2017JQSRT.203...70G).  \n",
    "\n",
    "Lastly, the user can specify the wavelength range of the extracted data (see ``wllow`` and ``wlhigh``).  Normally one want to the widest possible range (to avoid needing to re-calculating TLI files if a future calculation needs it), but for sake of this demo, we will extract just over a narrow region:\n",
    "\n",
    "```ini\n",
    "[pyrat]\n",
    "\n",
    "# Select Pyrat Bay run mode: [tli atmosphere spectrum opacity retrieval radeq]\n",
    "runmode = tli\n",
    "\n",
    "# Output log and TLI file (if you ommit `tlifile`, it will be automatically generated from the logfile):\n",
    "logfile = Exomol_HCN_1.0-3.0um.log\n",
    "\n",
    "# List of line-transtion databases (.trans files):\n",
    "# (make sure the corresponding .states files are in the same folder)\n",
    "dblist =\n",
    "    1H-12C-14N__Harris.trans  \n",
    "    1H-13C-14N__Larner.trans\n",
    "\n",
    "# Type of line-transition database, select from:\n",
    "# [hitran exomol repack]\n",
    "dbtype = exomol\n",
    "\n",
    "# List of partition functions for each database:\n",
    "pflist = PF_exomol_HCN.dat\n",
    "\n",
    "# Initial and final wavelength:\n",
    "wllow = 1.0 um\n",
    "wlhigh = 3.0 um\n",
    "\n",
    "# Verbosity level (<0:errors, 0:warnings, 1:headlines, 2:details, 3:debug):\n",
    "verb = 2\n",
    "```"
   ]
  },
  {
   "cell_type": "markdown",
   "id": "a15b52d7-35dd-4e89-8f2b-d5f5cf324f42",
   "metadata": {},
   "source": [
    "To generate the tli files, we run these ``Pyrat Bay`` prompt commands:\n",
    "\n",
    "```shell\n",
    "pbay -c tli_exomol_HCN_cookbook.cfg\n",
    "```"
   ]
  },
  {
   "cell_type": "markdown",
   "id": "bd1f41a6-5fb2-4518-92bb-d12cb6823325",
   "metadata": {
    "tags": []
   },
   "source": [
    "## Compute cross-section tables\n",
    "\n",
    "As with TLI files, cross-section files can be generated via configuration files and the command line. The config file below ([opacity_exomol_HCN_cookbook.cfg](https://github.com/pcubillos/pyratbay/blob/master/docs/cookbooks/opacity_exomol_HCN_cookbook.cfg)) computes a cross-section table (output name ``extfile``).\n",
    "\n",
    "These parameters define each array of the cross-section table:\n",
    "\n",
    "- The `pbottom`, ``ptop``, and ``nlayers`` parameters define the pressure sampling array\n",
    "- The `tmin`, ``tmax``, and ``tstep`` parameters define the temperature sampling array\n",
    "- The `wllow`, ``wlhigh``, and ``resolution`` parameters define the spectral array at a constant resolution (alternatively, one can replace ``resolution`` with ``wnstep`` to sample at constant $\\Delta$wavenumber, units in cm$^{-1}$)\n",
    " \n",
    "For the composition (`species`), make sure to include the molecule for which we are computing the cross-sections. Also, include the *background* gas, which is relevant for the pressure broadening (here, we assume a H2/He-dominated atmosphere).  Only the VMR values of the background gasses are important, trace-gas VMRs are irrelevant (see `chemistry` or `uniform`. `tmodel` and `tpars` are needed to define the atmosphere's temperature profile, but for an opacity run, these do not impact the calculations.\n",
    "\n",
    "Lastly, the user can set `ncpu` (recommended) to speed up the calculations using parallel computing.\n",
    "\n",
    "```ini\n",
    "[pyrat]\n",
    "\n",
    "# Select Pyrat Bay run mode: [tli atmosphere spectrum opacity retrieval radeq]\n",
    "runmode = opacity\n",
    "\n",
    "# Output log and cross-section file:\n",
    "# (if you ommit extfile it will be automatically generated from logfile name)\n",
    "logfile = cross_section_R020K_0150-3000K_1.0-3.0um_exomol_HCN_harris-larner.log\n",
    "\n",
    "# Pressure sampling:\n",
    "pbottom = 100 bar\n",
    "ptop = 1e-8 bar\n",
    "nlayers = 51\n",
    "\n",
    "# Temperature profile (needed, but not relevant for cross-section generation)\n",
    "tmodel = isothermal\n",
    "tpars = 1000.0\n",
    "\n",
    "# A simplified H2/He-dominated composition\n",
    "chemistry = uniform\n",
    "species = H2  He  HCN\n",
    "uniform = 0.85 0.15 1e-4\n",
    "\n",
    "\n",
    "# Wavelength sampling\n",
    "wllow = 1.0 um\n",
    "wlhigh = 3.0 um\n",
    "resolution = 20000.0\n",
    "# Line-profile wings extent (in HWHM from center):\n",
    "vextent = 300.0\n",
    "\n",
    "# Input TLI file:\n",
    "tlifile = Exomol_HCN_1.0-3.0um.tli\n",
    "\n",
    "# Cross-section temperature sampling:\n",
    "tmin =  150\n",
    "tmax = 3000\n",
    "tstep = 150\n",
    "\n",
    "# Number of CPUs for parallel processing:\n",
    "ncpu = 16\n",
    "\n",
    "# Verbosity level (<0:errors, 0:warnings, 1:headlines, 2:details, 3:debug):\n",
    "verb = 2\n",
    "```"
   ]
  },
  {
   "cell_type": "markdown",
   "id": "e18d32f7-26f3-46ae-a2f3-6a4d61f1528d",
   "metadata": {},
   "source": [
    "To generate the cross-section files, we run these ``Pyrat Bay`` prompt commands:\n",
    "\n",
    "```shell\n",
    "pbay -c opacity_exomol_HCN_cookbook.cfg\n",
    "```"
   ]
  },
  {
   "cell_type": "markdown",
   "id": "d792dabe-0a2e-47b8-b559-3fcf5258491e",
   "metadata": {},
   "source": [
    "## Concluding remarks\n",
    "\n",
    "This script uses a relatively *small* line-list data set (70 million transitions). In many other cases the ExoMol line lists reach the billions of line transitions, for which computing cross-section spectra becomes computationally unfeasible.  For such cases, the `repack` tool [(Cubillos 2017)](https://ui.adsabs.harvard.edu/abs/2017ApJ...850...32C) helps to identify and retain the strong line transitions that dominate the spectrum.  `repack` effectively the line list down to millions, without significantly impacting the cross section spectra.  The [repack-Exomol tutorial](https://pyratbay.readthedocs.io/en/latest/cookbooks/line_list_exomol.html#line-list-exomol) shows how to use repack-processed ExoMol data in `Pyrat Bay`.\n"
   ]
  }
 ],
 "metadata": {
  "kernelspec": {
   "display_name": "py310",
   "language": "python",
   "name": "py310"
  },
  "language_info": {
   "codemirror_mode": {
    "name": "ipython",
    "version": 3
   },
   "file_extension": ".py",
   "mimetype": "text/x-python",
   "name": "python",
   "nbconvert_exporter": "python",
   "pygments_lexer": "ipython3",
   "version": "3.10.12"
  }
 },
 "nbformat": 4,
 "nbformat_minor": 5
}
